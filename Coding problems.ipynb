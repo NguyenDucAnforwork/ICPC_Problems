{
 "cells": [
  {
   "cell_type": "markdown",
   "id": "22ca0676",
   "metadata": {},
   "source": [
    "# Coding problems:\n",
    "Here are some interesting programming problems that I have collected during my 3 months of learning programming, mainly from the online platform Codeforces, covering various topics such as graphs, number theory, constructive problems, and more. Some problems I have solved on my own, while others I have referenced solutions from multiple sources and explained them in my own understanding. I hope that through these problems, you will learn something useful."
   ]
  },
  {
   "cell_type": "markdown",
   "id": "af4bad08",
   "metadata": {},
   "source": [
    "## 1. Shortest path in the graph"
   ]
  },
  {
   "cell_type": "markdown",
   "id": "d534f963",
   "metadata": {},
   "source": [
    "### Problem 1.1 - TechClubChampionship 2023 problem G:"
   ]
  },
  {
   "cell_type": "markdown",
   "id": "09848b8c",
   "metadata": {},
   "source": [
    "Robocon arena is a square grid with dimensions NxN. Each cell of the grid contains a certain number of gifts. The time it takes to move between two adjacent cells (left, right, up, down) is T units. Initially, the Robot is positioned at the starting point (1,1) and needs to move to the destination position (N,N). The rule set by the organizers is that every time the robot takes 3 steps, it must pause at its current position to collect all the available gift boxes (including the case when the current position is the destination cell). It takes 1 unit of time to collect each gift box. Your task is to devise an optimal strategy for the robot's movements to reach the destination as quickly as possible. Some cells may contain a large number of gift boxes, so you should avoid stopping at these cells unless necessary, as it would consume more time.\n",
    "\n",
    "Input: The first line contains 2 numbers, N and T (3 <= N <= 100, 0 <= T <= 10^6). The next N lines each contain N integers describing the grid A[i][j] (1 <= A[i][j] <= 10^5).\n",
    "\n",
    "Output: Print the minimum time required to complete the robot's movement."
   ]
  },
  {
   "cell_type": "markdown",
   "id": "bbe3cba0",
   "metadata": {},
   "source": [
    "#### Problem analysis: \n",
    "\n",
    "We can immediately recognize that this is a problem related to finding the shortest path in a graph, where the graph is an NxN square grid and each cell is connected to its adjacent cells on the grid. The fact that the cells do not have weights makes us think of applying Dijkstra's algorithm to solve the problem. However, the issue here is that the robot can collect gifts whenever it takes 3 steps, and the value of the gifts is determined by the cells. Therefore, we need to address two main questions: \n",
    "\n",
    "* 1. Can we still use Dijkstra's algorithm to solve the problem \n",
    "* 2. If so, how do we apply it to make the algorithm work? \n"
   ]
  },
  {
   "cell_type": "markdown",
   "id": "35a5e74d",
   "metadata": {},
   "source": [
    "#### Solution: \n",
    "* We will need to model the problem considering the condition \"Whenever the number of steps is di. visible by 3, the robot receives a gift.\" From there, we naturally arrive at a solution by using a 3-dimensional array d[i][j][k], where k stores the current number of steps. To reduce computations, k can be reduced to 0, 1, 2 (the remainders when dividing by 3 to minimize the number of cases). \n",
    "\n",
    "* To ensure the correctness of the Dijkstra's algorithm, we need to iterate over ALL cells in the graph. Then, at each update of the value d[i][j][k], this guarantees that the Dijkstra's algorithm still works correctly because we are comparing with ALL cells in the graph, and *each* iteration will find a fixed label. By doing so, we continue until the end of the loop."
   ]
  },
  {
   "cell_type": "markdown",
   "id": "de2a9b91",
   "metadata": {},
   "source": [
    "#### Implementation:"
   ]
  },
  {
   "cell_type": "code",
   "execution_count": null,
   "id": "b66e7f73",
   "metadata": {},
   "outputs": [],
   "source": [
    "#include <bits/stdc++.h>\n",
    "\n",
    "using namespace std;\n",
    "using ll = long long;\n",
    "\n",
    "const int N = 110;\n",
    "const ll oo = 1e17 + 10;\n",
    "const int dx[] = {-1, 0, 1, 0};\n",
    "const int dy[] = {0, 1, 0, -1};\n",
    "ll a[N][N], d[N][N][4], vst[N][N][4];\n",
    "int n, t;\n",
    "\n",
    "void dijkstra(int X, int Y)\n",
    "{\n",
    "    d[X][Y][0] = 0;\n",
    "    for (int s = 1;s <= n * n * 3; ++s)\n",
    "    {\n",
    "        int x = 0, y = 0, dist = oo, cur_step; // di tim o (x,y,step) co gia tri duong di tu (1,1) la nho nhat\n",
    "        for (int i = 1;i <= n; ++i)\n",
    "            for (int j = 1;j <= n; ++j)\n",
    "            {\n",
    "                for (int step = 0; step <= 2; ++step)\n",
    "                {\n",
    "                    if (d[i][j][step] < dist && !vst[i][j][step])\n",
    "                    {\n",
    "                        dist = d[i][j][step];\n",
    "                        x = i, y = j;\n",
    "                        cur_step = step;\n",
    "                    }\n",
    "                }\n",
    "            }\n",
    "        //cout << x << \" \" << y << \" \" << cur_step << \" \" << dist << \"\\n\";\n",
    "        vst[x][y][cur_step] = 1; // danh dau gia tri (x,y,step) la da tham\n",
    "        for (int idx = 0; idx < 4; ++idx) // dijkstra tren mang 2 chieu nhu bthg :)\n",
    "        {\n",
    "            int u = x + dx[idx];\n",
    "            int v = y + dy[idx];\n",
    "            ll duv = t;\n",
    "            if (cur_step == 2) duv += a[u][v];\n",
    "            if (u <= 0 || u > n || v <= 0 || v > n || vst[u][v][(cur_step + 1) % 3])\n",
    "            {\n",
    "                continue;\n",
    "            }\n",
    "            if (d[u][v][(cur_step + 1) % 3] > d[x][y][cur_step] + duv)\n",
    "            {\n",
    "                d[u][v][(cur_step + 1) % 3] = d[x][y][cur_step] + duv;\n",
    "            }\n",
    "        }\n",
    "    }\n",
    "}\n",
    "\n",
    "int main()\n",
    "{\n",
    "    cin >> n >> t;\n",
    "    for (int i = 1;i <= n; ++i) for (int j = 1;j <= n; ++j) cin >> a[i][j];\n",
    "    for (int i = 1;i <= n; ++i) for (int j = 1;j <= n; ++j){\n",
    "        for (int step = 0; step <= 2; ++step)\n",
    "        {\n",
    "            vst[i][j][step] = 0;\n",
    "            d[i][j][step] = oo;\n",
    "        }\n",
    "    }\n",
    "    dijkstra(1, 1);\n",
    "    ll res = oo;\n",
    "    for (int i = 0;i <= 2; ++i)\n",
    "    {\n",
    "        res = min(res, d[n][n][i]);\n",
    "        cout << d[n][n][i] << \"\\n\";\n",
    "    }\n",
    "    cout << res << \"\\n\";\n",
    "}\n",
    "/*\n",
    "4 2\n",
    "31 52 10 80\n",
    "38 95 60 16\n",
    "41 10 10 18\n",
    "25 17 13 80\n",
    "\n",
    "4 3\n",
    "50 50 50 50\n",
    "50 50 1 50\n",
    "1 50 50 50\n",
    "50 50 1 50\n",
    "*/\n"
   ]
  },
  {
   "cell_type": "markdown",
   "id": "8749c2eb",
   "metadata": {},
   "source": [
    "#### Time complexity: O($N^4$) as we looped through the table 2 times which is good enough. However, for optimization we can even use Priority Queue structure to reduce the time complexity to $N^2$."
   ]
  },
  {
   "cell_type": "markdown",
   "id": "422a6293",
   "metadata": {},
   "source": [
    "### 1.2. [Codeforces round 871 div 4](https://codeforces.com/contest/1829/problem/E)\n"
   ]
  },
  {
   "cell_type": "markdown",
   "id": "5d4fb3bd",
   "metadata": {},
   "source": [
    "#### Problem analysis: \n",
    "We quickly realize that this is a problem related to finding the longest path in a graph, where each vertex has a non-zero value. Although the problem statement may seem complex, it can be easily reduced to finding the longest path. It is evident that we would want to consider all possible vertices and find the longest path. Therefore, using the Depth-First Search (DFS) algorithm is a straightforward and easily understandable approach."
   ]
  },
  {
   "cell_type": "markdown",
   "id": "b3c16f5f",
   "metadata": {},
   "source": [
    "#### Implementation:"
   ]
  },
  {
   "cell_type": "code",
   "execution_count": null,
   "id": "75875166",
   "metadata": {},
   "outputs": [],
   "source": [
    "#include <bits/stdc++.h>  //can nhan biet khi nao dung dfs, khi nao dung duong di\n",
    "using namespace std;\n",
    "long long a[1005][1005], ans, res, n, m;\n",
    "void dfs(int i, int j){\n",
    "    if(min(i, j) < 0 || i >= n || j >= m || !a[i][j])   return;\n",
    "    ans += a[i][j]; a[i][j] = 0; \n",
    "    dfs(i, j+1); dfs(i+1, j); dfs(i, j-1); dfs(i-1, j);\n",
    "}\n",
    "int main(){\n",
    "    ios_base::sync_with_stdio(0);\n",
    "    cin.tie(0);\n",
    "   int t;  cin >> t;\n",
    "   while(t--){\n",
    "      cin >> n >> m;\n",
    "      for(int i = 0; i < n; i++){\n",
    "        for(int j = 0; j < m; j++)   cin >> a[i][j];\n",
    "      } \n",
    "      res = 0;\n",
    "      for(int i = 0; i < n; i++){\n",
    "        for(int j = 0; j < m; j++){\n",
    "            if(a[i][j] > 0) { \n",
    "                ans = 0; dfs(i, j);\n",
    "                res = max(res, ans);\n",
    "        }  \n",
    "        } \n",
    "      }\n",
    "      cout << res << \"\\n\"; \n",
    "   }\n",
    "}"
   ]
  },
  {
   "cell_type": "markdown",
   "id": "9c6331e0",
   "metadata": {},
   "source": [
    "#### Time complexity: O(V+E) ~ O($m*n$) since we use BFS algorithm"
   ]
  },
  {
   "cell_type": "markdown",
   "id": "32160edb",
   "metadata": {},
   "source": [
    "### 1.3. [Codeforces Round 869 div 2 problem D](https://codeforces.com/contest/1818/problem/D)"
   ]
  },
  {
   "cell_type": "markdown",
   "id": "0688f198",
   "metadata": {},
   "source": [
    "#### Problem analysis: "
   ]
  },
  {
   "cell_type": "markdown",
   "id": "3de9034b",
   "metadata": {},
   "source": [
    "Honestly this is a pretty easy problem compared to its level (1900 rating). The idea is super obvious: Detecting a cycle in a graph, which can be solved by using BFS of DFS alogirthm (both are feasible). Then to make it a fish graph, we need a vectex having degree equal or greater than 4. We need to prove this condition is sufficient. If two other connected edges are not cycle edges then we are done. If it is not then we just take the smaller cylce of the given cycle diminising 2 connected edges.  "
   ]
  },
  {
   "cell_type": "markdown",
   "id": "2cff7588",
   "metadata": {},
   "source": [
    "#### Implementation: "
   ]
  },
  {
   "cell_type": "code",
   "execution_count": null,
   "id": "5292b478",
   "metadata": {},
   "outputs": [],
   "source": [
    "#include <iostream>\n",
    "#include <vector>\n",
    "#include <queue>\n",
    "\n",
    "using namespace std;\n",
    "\n",
    "const int NM = 2000;\n",
    "\n",
    "int ntest = 1;\n",
    "int n, m, deg[NM + 5];\n",
    "vector<int> adj[NM + 5];\n",
    "queue<int> Q;\n",
    "bool visited[NM + 5], choosed[NM + 5];\n",
    "int trace[NM + 5];\n",
    "vector<pair<int, int>> ans;\n",
    "\n",
    "void truyvet(int v) {\n",
    "    choosed[v] = true;\n",
    "    if (trace[v] == -1)\n",
    "        return;\n",
    "    int u = trace[v];\n",
    "    ans.push_back(make_pair(u, v));\n",
    "    truyvet(u);\n",
    "}\n",
    "\n",
    "bool BFS(int u, int f, pair<int, int> P) {\n",
    "    while (!Q.empty())\n",
    "        Q.pop();\n",
    "    Q.push(u);\n",
    "    for (int i = 1; i <= n; i++) {\n",
    "        visited[i] = false;\n",
    "        choosed[i] = false;\n",
    "        trace[i] = -1;\n",
    "    }\n",
    "    visited[u] = true;\n",
    "    while (!Q.empty()) {\n",
    "        u = Q.front();\n",
    "        Q.pop();\n",
    "        if (u == f) {\n",
    "            truyvet(f);\n",
    "            return true;\n",
    "        }\n",
    "        for (int i = 0; i < adj[u].size(); i++) {\n",
    "            int v = adj[u][i];\n",
    "            if (make_pair(u, v) == P || make_pair(v, u) == P)\n",
    "                continue;\n",
    "            if (!visited[v]) {\n",
    "                visited[v] = true;\n",
    "                trace[v] = u;\n",
    "                Q.push(v);\n",
    "            }\n",
    "        }\n",
    "    }\n",
    "    return false;\n",
    "}\n",
    "\n",
    "bool solve() {\n",
    "    ans.clear();\n",
    "    for (int u = 1; u <= n; u++) {\n",
    "        if (deg[u] >= 4) {\n",
    "            for (int i = 0; i < adj[u].size(); i++) {\n",
    "                int v = adj[u][i];\n",
    "                if (BFS(u, v, make_pair(u, v))) {\n",
    "                    ans.push_back(make_pair(u, v));\n",
    "                    int cnt = 0;\n",
    "                    for (int j = 0; j < adj[u].size(); j++) {\n",
    "                        int w = adj[u][j];\n",
    "                        if (!choosed[w]) {\n",
    "                            cnt++;\n",
    "                            choosed[w] = true;\n",
    "                            ans.push_back(make_pair(u, w));\n",
    "                            if (cnt == 2)\n",
    "                                break;\n",
    "                        }\n",
    "                    }\n",
    "                    return true;\n",
    "                }\n",
    "            }\n",
    "        }\n",
    "    }\n",
    "    return false;\n",
    "}\n",
    "\n",
    "int main() {\n",
    "    ios_base::sync_with_stdio(0);\n",
    "    cin.tie(0);\n",
    "    cout.tie(0);\n",
    "    \n",
    "    cin >> ntest;\n",
    "    while (ntest--) {\n",
    "        cin >> n >> m;\n",
    "        for (int i = 1; i <= n; i++) {\n",
    "            adj[i].clear();\n",
    "            deg[i] = 0;\n",
    "        }\n",
    "        while (m--) {\n",
    "            int u, v;\n",
    "            cin >> u >> v;\n",
    "            adj[u].push_back(v);\n",
    "            adj[v].push_back(u);\n",
    "            deg[u]++;\n",
    "            deg[v]++;\n",
    "        }\n",
    "        if (!solve()) {\n",
    "            cout << \"NO\" << endl;\n",
    "        } else {\n",
    "            cout << \"YES\" << endl;\n",
    "            cout << ans.size() << endl;\n",
    "            for (int i = 0; i < ans.size(); i++) {\n",
    "                cout << ans[i].first << ' ' << ans[i].second << endl;\n",
    "            }\n",
    "        }\n",
    "    }\n",
    "    return 0;\n",
    "}\n"
   ]
  },
  {
   "cell_type": "markdown",
   "id": "d73a2fb1",
   "metadata": {},
   "source": [
    "#### Time complexity: O(V+E) ~ O(m+n) since we implement BFS algorithm."
   ]
  },
  {
   "cell_type": "markdown",
   "id": "8aa1c3f4",
   "metadata": {},
   "source": [
    "### 2.  Sorting"
   ]
  },
  {
   "cell_type": "markdown",
   "id": "d30f732d",
   "metadata": {},
   "source": [
    "### 2.1. [Codeforces round 872 div 2 problem C](https://codeforces.com/contest/1825/problem/C)"
   ]
  },
  {
   "cell_type": "markdown",
   "id": "783c8303",
   "metadata": {},
   "source": [
    "#### Problem analysis:\n",
    "* To fill in as many empty spaces as possible, it is clear that we need to alternate between labeling positive individuals and labeling 1's and 2's. Additionally, we observe that if we initially fill the empty spaces with -1 or -2 labels, the remaining negative label will never be used, leading to a suboptimal solution (unless there are no -1 or -2 labels).\n",
    "\n",
    "* The first individual to be placed will have a decisive factor, as all -1 labeled individuals will only be placed to the right of that individual, and -2 labeled individuals to the left. Therefore, to find the maximum number of individuals that can be seated, we can simply iterate through each case where we place a positive labeled individual in the first position."
   ]
  },
  {
   "cell_type": "markdown",
   "id": "88f93ced",
   "metadata": {},
   "source": [
    "#### Implementation:"
   ]
  },
  {
   "cell_type": "code",
   "execution_count": null,
   "id": "42097353",
   "metadata": {},
   "outputs": [],
   "source": [
    "#include <bits/stdc++.h>\n",
    "using namespace std;\n",
    "\n",
    "int main(){\n",
    "    ios_base::sync_with_stdio(0);\n",
    "    cin.tie(0);\n",
    "    int t;\n",
    "    cin >> t;\n",
    "    while(t--){\n",
    "        int n, m, r = 0, l = 0;\n",
    "        cin >> n >> m;\n",
    "        vector<int> visit(m + 1, 0), x;\n",
    "        for(int i = 0; i < n; i++){\n",
    "            int k;\n",
    "            cin >> k;\n",
    "            if(k == -1) l++;\n",
    "            if(k == -2) r++;\n",
    "            if(k > 0 && !visit[k]) {\n",
    "                x.push_back(k);\n",
    "                visit[k] = 1;\n",
    "            }\n",
    "        }    \n",
    "        sort(x.begin(), x.end());\n",
    "\n",
    "        int u = x.size();\n",
    "        int res1 = min(m, r + u);\n",
    "        int res2 = min(m, l + u);\n",
    "        int res3 = 0;\n",
    "        \n",
    "        for(int i = 0; i < u; i++){\n",
    "            res3 = max(res3, 1 + min(x[i] - 1 ,i+ l) + min(m - x[i],u -i-1+ r));\n",
    "        }\n",
    "        \n",
    "        cout << max({res1, res2, res3}) << '\\n';\n",
    "    }\n",
    "    return 0;\n",
    "}\n"
   ]
  },
  {
   "cell_type": "markdown",
   "id": "963c9cb6",
   "metadata": {},
   "source": [
    "#### Time complexity: O(n) in worst case (if there's no one labeled -1 or -2)."
   ]
  },
  {
   "cell_type": "markdown",
   "id": "fc8368b4",
   "metadata": {},
   "source": [
    "### 2.2. [Educational Codeforces Round 148 problem D1](https://codeforces.com/contest/1832/problem/D1)"
   ]
  },
  {
   "cell_type": "markdown",
   "id": "83824e98",
   "metadata": {},
   "source": [
    "#### Problem analysis:"
   ]
  },
  {
   "cell_type": "markdown",
   "id": "ec89d687",
   "metadata": {},
   "source": [
    "This is truly a very challenging problem, even if we have the luxury of solving it with ample time, it is not guaranteed to be proven rigorously and often relies heavily on intuition.\n",
    "\n",
    "* First, let's consider the simple case where k <= n. This is straightforward because we can only increase the values of the elements. Therefore, to create an optimal solution, the most natural approach is to maximize the value of the smallest element! By doing so, we ensure that it remains the smallest value (as each subsequent increase with other elements will be smaller) but at the same time, it increases as much as possible!\n",
    "\n",
    "* For the more difficult case where k > n, the main idea is still to \"flatten\" the numbers so that all numbers are equal or nearly equal, and then gradually decrease all the numbers uniformly, reducing each number by 1 unit at a time to ensure that the smallest number remains unchanged and achieves the maximum possible value (the proof can be done using contradiction). To achieve this, we perform two consecutive operations on i and i+1 at the same position. The remaining challenge is to calculate the most accurate values possible."
   ]
  },
  {
   "cell_type": "markdown",
   "id": "8280e6dc",
   "metadata": {},
   "source": [
    "#### Implementation:"
   ]
  },
  {
   "cell_type": "code",
   "execution_count": null,
   "id": "695e7daf",
   "metadata": {},
   "outputs": [],
   "source": [
    "#include <bits/stdc++.h>\n",
    "using namespace std;\n",
    "int main(){\n",
    "    ios_base::sync_with_stdio(0);\n",
    "    cin.tie(0);\n",
    "    int n, q; cin >> n >> q;\n",
    "    vector<int> a(n);\n",
    "    for(auto& x : a)   cin >> x;\n",
    "    sort(a.begin(), a.end());\n",
    "    auto backup = a;\n",
    " \n",
    "    while(q--){\n",
    "        int k; cin >> k;\n",
    "        a = backup;\n",
    "        long long diff = 0, ans = 0; \n",
    "        \n",
    "        for(int i = 0; i < n; i++){\n",
    "            if(k == 0)   break;\n",
    "            if(i == n - 1 && k % 2 == 0)   break;\n",
    "            a[i] += k;\n",
    "            k--;\n",
    "        }\n",
    " \n",
    "        sort(a.begin(), a.end());\n",
    "        assert(k % 2 == 0);\n",
    "        k /= 2;\n",
    " \n",
    "        for(int i = 0; i < n; i++){\n",
    "            diff += (a[i] - a[0]);\n",
    "        }\n",
    "        ans = a[0];\n",
    "        if(k > diff){\n",
    "            k -= diff;\n",
    "            ans -= (k+n-1) / n;\n",
    "        }\n",
    "        cout << ans << '\\n';\n",
    "    }\n",
    "}"
   ]
  },
  {
   "cell_type": "markdown",
   "id": "db53a5cc",
   "metadata": {},
   "source": [
    "#### Time complexity: O(n)"
   ]
  },
  {
   "cell_type": "markdown",
   "id": "09756955",
   "metadata": {},
   "source": [
    "### 3.  Dynamic Programming + Recursion + Backtracking"
   ]
  },
  {
   "cell_type": "markdown",
   "id": "d87f3e69",
   "metadata": {},
   "source": [
    "### 3.1. [Codeforces round 870 div 2 problem D](https://codeforces.com/contest/1823/problem/D)"
   ]
  },
  {
   "cell_type": "markdown",
   "id": "946454b0",
   "metadata": {},
   "source": [
    "### Problem analysis: "
   ]
  },
  {
   "cell_type": "markdown",
   "id": "9e996ba1",
   "metadata": {},
   "source": [
    "At first, the problem may seem difficult, but if we try solving smaller cases (n = 3, n = 4), we will notice a very clear idea: Breaking down the problem into smaller similar subproblems, or in other words, using Dynamic Programming! It is possible that the additional condition involving the distance between two sights may confuse you a bit, but we can handle it simply by dividing the distance into three stages: the first segment (adding index i), the middle segment, and the last segment (subtracting index i). This approach ensures that the algorithm works accurately."
   ]
  },
  {
   "cell_type": "markdown",
   "id": "d901b590",
   "metadata": {},
   "source": [
    "### Implementation: "
   ]
  },
  {
   "cell_type": "code",
   "execution_count": null,
   "id": "803aea1a",
   "metadata": {},
   "outputs": [],
   "source": [
    "#include<bits/stdc++.h>\n",
    "using namespace std;\n",
    "int main(){\n",
    "    ios_base::sync_with_stdio(0); cin.tie(0);\n",
    "    int T; cin >> T;\n",
    "    while(T--){\n",
    "        int n; cin >> n;\n",
    "        vector<int> b(n); vector<vector<int>> dp(n+1, vector<int>(3, INT_MIN));\n",
    "        for(auto& x : b)   cin >> x;\n",
    "        for(int i = 0; i < n; i++){\n",
    "            dp[i+1][0] = max(dp[i][0], b[i]+i);\n",
    "            dp[i+1][1] = max(dp[i][1], dp[i][0] + b[i]);\n",
    "            dp[i+1][2] = max(dp[i][2], dp[i][1] + b[i] - i);\n",
    "        }\n",
    "        cout << dp[n][2] << '\\n';\n",
    "    }\n",
    "}"
   ]
  },
  {
   "cell_type": "markdown",
   "id": "ca627468",
   "metadata": {},
   "source": [
    "### Time complexity: O(n)"
   ]
  },
  {
   "cell_type": "markdown",
   "id": "f4da8f53",
   "metadata": {},
   "source": [
    "### 3.2. [Codeforces Round 869 div 1 problem A](https://codeforces.com/contest/1817/problem/A)"
   ]
  },
  {
   "cell_type": "markdown",
   "id": "24630dad",
   "metadata": {},
   "source": [
    "#### Problem analysis:\n",
    "It is easy to see that this is a dynamic programming problem. The main idea is to count the number of elements i that satisfy the condition: a[i] >= a[i+1] >= a[i+2] when considering the j-th element of the given segment. Then, we just need to remove all such pairs within the subarray [l...r] using the principle of subtraction, and the problem is solved!"
   ]
  },
  {
   "cell_type": "markdown",
   "id": "d48f7e4b",
   "metadata": {},
   "source": [
    "#### Implementation:"
   ]
  },
  {
   "cell_type": "code",
   "execution_count": null,
   "id": "629dcc50",
   "metadata": {},
   "outputs": [],
   "source": [
    "#include <bits/stdc++.h>\n",
    "using namespace std;\n",
    " \n",
    "int main () {\n",
    "  ios_base::sync_with_stdio(0); cin.tie(0);\n",
    "  int n, q;\n",
    "  cin >> n >> q;\n",
    "  vector<int> a(n), b(n);\n",
    "  for (int& x: a) cin >> x;\n",
    "  for (int i = 2; i < n; i++) {\n",
    "    b[i] = b[i-1] + (a[i] <= a[i-1] && a[i-1] <= a[i-2]);\n",
    "  }\n",
    " \n",
    "  while (q--) {\n",
    "    int l, r;\n",
    "    cin >> l >> r;\n",
    "    cout << r-l+1-(r == l ? 0 : b[r-1]-b[l]) << '\\n';\n",
    "  }\n",
    "}"
   ]
  },
  {
   "cell_type": "markdown",
   "id": "1de8e2bb",
   "metadata": {},
   "source": [
    "#### Time complexity: O(n)"
   ]
  },
  {
   "cell_type": "markdown",
   "id": "f7f5d59c",
   "metadata": {},
   "source": [
    "### 4. Constructive Algorithm"
   ]
  },
  {
   "cell_type": "markdown",
   "id": "cbc9c878",
   "metadata": {},
   "source": [
    "### 4.1. [Codeforces round 868 div 2](https://codeforces.com/contest/1823/problem/D)"
   ]
  },
  {
   "cell_type": "markdown",
   "id": "114d9d19",
   "metadata": {},
   "source": [
    "#### Problem analysis: \n",
    "\n",
    "This is actually a hard problem, especially when you have to solve it in a limited time. If someone is not familiar with these types of problems, they can easily feel overwhelmed because it seems like there is no starting point. However, if we can break down the problem and reason logically, the problem will gradually be resolved. Ask yourself: \n",
    "* Is there any connection between the given condition and the previous condition? \n",
    "* Building a string that satisfies all k initial conditions seems \"impossible,\" especially if k is a large number. So, if we simplify it to k = 1, what kind of string can we construct?"
   ]
  },
  {
   "cell_type": "markdown",
   "id": "65b1bd33",
   "metadata": {},
   "source": [
    "#### Solution:"
   ]
  },
  {
   "cell_type": "markdown",
   "id": "3659ba94",
   "metadata": {},
   "source": [
    "* For the first question, we observe that whenever the length n of the substring increases by 1, p(n) can increase by at most 1. We can prove this by contradiction. Suppose there exists a way to construct a string such that p(n+1) - p(n) >= 2. \n",
    "\n",
    "* Let the (n+1)-th element be a_(n+1). In this case, a_(n+1) will appear in at least 2 unique substrings. Let's call these two substrings [x_1....(n+1)] and [x_2....(n+1)]. Due to the palindromic property, we have a[x_1] = a_(n+1) = a[x_2]. Without loss of generality, assume x_1 < x_2. Let u be the midpoint index of the substring [x_1....(n+1)]. Then, if we take the mirror image of the substring [x_2....(n+1)] across u, we obtain a substring that lies within the range from 1 to n and satisfies the palindromic property. This means that [x_2....(n+1)] has appeared before, leading to a contradiction. This is an important observation and serves as a premise for constructing the subsequent solution.\n",
    "\n",
    "* For the second question, we first notice that for n = 3, p(n) = 3 in all cases. Therefore, x_1 >= c_1. Now, the key to constructing a satisfying substring is to control how p(n) changes each time we add a character (whether it remains the same or increases by 1). To achieve this, the best approach is to make all c_1 characters the same (corresponding to p(c_1) = c_1) and ensure that there are no additional unique palindromic substrings afterwards. However, this is not possible (since no matter what the next character is, it will always increase p(n) by 1). \n",
    "\n",
    "* Therefore, we come up with a similar idea: build c_1 - 2 identical characters, followed by 2 distinct characters (2 can be replaced by a number greater than 2 but not 1 because it will cause a new palindromic substring), and then REPEAT the previously added 3 characters!!!. This repetition will ensure that p(n) remains the same. From there, we can easily determine the construction method for the general case."
   ]
  },
  {
   "cell_type": "markdown",
   "id": "a9e53c48",
   "metadata": {},
   "source": [
    "#### Implementation: "
   ]
  },
  {
   "cell_type": "code",
   "execution_count": null,
   "id": "35ebacd2",
   "metadata": {},
   "outputs": [],
   "source": [
    "#include <bits/stdc++.h>\n",
    "\n",
    "using namespace std;\n",
    "\n",
    "int main() {\n",
    "    int tt;\n",
    "    cin >> tt;\n",
    "    while (tt--) {\n",
    "        int n, k;\n",
    "        cin >> n >> k;\n",
    "        vector <int> x(k), c(k);\n",
    "        for (int i = 0; i < k; i++)\n",
    "            cin >> x[i];\n",
    "        for (int i = 0; i < k; i++)\n",
    "            cin >> c[i];\n",
    "\n",
    "        if (c[0] < 3 || c[0] > x[0]) {\n",
    "            cout << \"NO\\n\";\n",
    "            continue;\n",
    "        }\n",
    "\n",
    "        string s;\n",
    "\n",
    "        char cur = 'a';\n",
    "        for (int i = 0; i < c[0] - 3; i++)\n",
    "            s.push_back('a');\n",
    "\n",
    "        for (int i = c[0] - 3; i < x[0]; i++) {\n",
    "            s.push_back(cur);\n",
    "            cur++;\n",
    "            if (cur == 'd') cur = 'a';\n",
    "        }\n",
    "\n",
    "        bool good = true;\n",
    "        for (int j = 1; j < k; j++) {\n",
    "            int dx = x[j] - x[j - 1];\n",
    "            int dc = c[j] - c[j - 1];\n",
    "            if (dc > dx) {\n",
    "                good = false;\n",
    "                break;\n",
    "            }\n",
    "\n",
    "            for (int i = 0; i < dc; i++)\n",
    "                s.push_back('c' + j);\n",
    "            for (int i = dc; i < dx; i++) {\n",
    "                s.push_back(cur);\n",
    "                cur++;\n",
    "                if (cur == 'd') cur = 'a';\n",
    "            }\n",
    "        }\n",
    "\n",
    "        if (good)\n",
    "            cout << \"YES\" << endl << s << endl;\n",
    "        else\n",
    "            cout << \"NO\" << endl;\n",
    "    }\n",
    "\n",
    "    return 0;\n",
    "}"
   ]
  },
  {
   "cell_type": "markdown",
   "id": "d2c8c397",
   "metadata": {},
   "source": [
    "#### Time complexity: O(k) as we loop through all the given numbers. "
   ]
  },
  {
   "cell_type": "markdown",
   "id": "8e5340bc",
   "metadata": {},
   "source": [
    "### 4.2. [Codeforces Round 871 div 4 problem D](https://codeforces.com/contest/1829/problem/D)"
   ]
  },
  {
   "cell_type": "markdown",
   "id": "2da4391b",
   "metadata": {},
   "source": [
    "### Problem analysis: "
   ]
  },
  {
   "cell_type": "markdown",
   "id": "1853b55a",
   "metadata": {},
   "source": [
    "The first idea is to factorize n into its prime factors and then consider the exponents of 2 and 3 to build satisfying conditions. This is not a bad idea, but it would involve dealing with many edge cases and may not be easy to implement within a limited time. Therefore, there is a more concise alternative idea which involves using recursion. Just note that solving the problem for n is no different than solving it for $\\frac{2n}{3}$ and $\\frac{n}{3}$!"
   ]
  },
  {
   "cell_type": "markdown",
   "id": "b44ec903",
   "metadata": {},
   "source": [
    "### Implementation: Reference: flamestorm. "
   ]
  },
  {
   "cell_type": "code",
   "execution_count": null,
   "id": "2e6f6c1b",
   "metadata": {},
   "outputs": [],
   "source": [
    "#include <bits/stdc++.h>\n",
    "\n",
    "using namespace std;\n",
    "\n",
    "bool ok(int n, int m) {\n",
    "\tif (n == m) {return true;}\n",
    "\telse if (n % 3 != 0) {return false;}\n",
    "\telse {return (ok(n / 3, m) || ok(2 * n / 3, m));}\n",
    "}\n",
    "\n",
    "void solve() {\n",
    "\tint n, m;\n",
    "\tcin >> n >> m;\n",
    "\tcout << (ok(n, m) ? \"YES\" : \"NO\") << '\\n';\n",
    "}\n",
    "\n",
    "int main() {\n",
    "\tios::sync_with_stdio(false);\n",
    "\tcin.tie(nullptr);\n",
    "\tint tt; cin >> tt; for (int i = 1; i <= tt; i++) {solve();}\n",
    "\t// solve();\n",
    "}"
   ]
  },
  {
   "cell_type": "markdown",
   "id": "28c04755",
   "metadata": {},
   "source": [
    "### Time complexity: $n^{\\log_3 {2}}$ by the Master Theorem."
   ]
  },
  {
   "cell_type": "markdown",
   "id": "4aae379e",
   "metadata": {},
   "source": [
    "### 5. Number theory"
   ]
  },
  {
   "cell_type": "markdown",
   "id": "e7c8e588",
   "metadata": {},
   "source": [
    "### 5.1. [Codeforces round 868 div 2](https://codeforces.com/contest/1823/problem/C)"
   ]
  },
  {
   "cell_type": "markdown",
   "id": "575e80f4",
   "metadata": {},
   "source": [
    "#### Problem analysis: "
   ]
  },
  {
   "cell_type": "markdown",
   "id": "647ff289",
   "metadata": {},
   "source": [
    "* At first, when reading the problem, we might feel a bit overwhelmed by the condition involving \"composite\" numbers, but if we think carefully, we will easily realize that we need to rewrite the given numbers in their prime factorization form and find an equivalent condition that is easier to handle. \n",
    "\n",
    "\n",
    "* In order to make k as large as possible, we need to know how to choose appropriate divisors. However, at this point, we need to be extremely careful because the condition for a number to be composite depends on its prime divisors. \n",
    "\n",
    "\n",
    "* Upon experimentation, if a number has only one prime divisor, we only need to take out two units of the exponent, but if a number has more than one divisor, we need to take AT LEAST three units of the exponent. \n",
    "\n",
    "\n",
    "* This is the decisive observation of the problem, from which we can derive the strategy: Each prime number will contribute two units of the exponent, and then we distribute them evenly among the remaining prime numbers."
   ]
  },
  {
   "cell_type": "markdown",
   "id": "c1ae8f95",
   "metadata": {},
   "source": [
    "#### Implementation:"
   ]
  },
  {
   "cell_type": "code",
   "execution_count": null,
   "id": "a0a62e79",
   "metadata": {},
   "outputs": [],
   "source": [
    "#include <bits/stdc++.h>\n",
    "\n",
    "using namespace std;\n",
    "\n",
    "int main() {\n",
    "    int tt;\n",
    "    cin >> tt;\n",
    "    while (tt--) {\n",
    "        int n;\n",
    "        cin >> n;\n",
    "        map <int,int> a;\n",
    "\n",
    "        //rewrite the product in their prime factorization form\n",
    "        for (int i = 0; i < n; i++) {\n",
    "            int x;\n",
    "            cin >> x;\n",
    "            for (int j = 2; j * j <= x; j++) {\n",
    "                while (x % j == 0) {\n",
    "                    x /= j;\n",
    "                    a[j]++;\n",
    "                }\n",
    "            }\n",
    "            if (x != 1) {\n",
    "                a[x]++;\n",
    "            }\n",
    "        }\n",
    "\n",
    "        int res = 0, rem = 0;\n",
    "\n",
    "        //res represents for the result, rem represents for the prime numbers left after distributing\n",
    "        for (pair <int, int> p : a) {\n",
    "            \n",
    "            int cnt = p.second;\n",
    "            res += cnt / 2;\n",
    "            rem += cnt % 2;\n",
    "        }\n",
    "        res += rem / 3;\n",
    "        \n",
    "        cout << res << '\\n';\n",
    "    }\n",
    "\n",
    "    return 0;\n",
    "}"
   ]
  },
  {
   "cell_type": "markdown",
   "id": "1f980b59",
   "metadata": {},
   "source": [
    "#### Time complexity: Depending on the given numbers but it should be less or equal $O(nlog(n))$"
   ]
  },
  {
   "cell_type": "markdown",
   "id": "cde7ac27",
   "metadata": {},
   "source": [
    "### 5.2. [Codeforces round 870 div 2 problem C](https://codeforces.com/contest/1826/problem/C)"
   ]
  },
  {
   "cell_type": "markdown",
   "id": "76b13c24",
   "metadata": {},
   "source": [
    "### Problem analysis:"
   ]
  },
  {
   "cell_type": "markdown",
   "id": "62a1df79",
   "metadata": {},
   "source": [
    "The main question of this problem is: How should we divide it to ensure an infinite process? It is easy to see that in order to achieve that, n must be divisible by the number of left choice options. On the other hand, we have an important observation that we can always arrange it so that after each iteration, the number of left options decreases by exactly 1 unit (distributing m-1 options evenly with [n/(m-1)]+1 votes for 1 option with the remaining votes). Therefore, we need to check if the smallest prime divisor of n is not greater than m!"
   ]
  },
  {
   "cell_type": "markdown",
   "id": "c3c16e4f",
   "metadata": {},
   "source": [
    "### Implementation:"
   ]
  },
  {
   "cell_type": "code",
   "execution_count": null,
   "id": "85fc6212",
   "metadata": {},
   "outputs": [],
   "source": [
    "#include <iostream>\n",
    "#include <string>\n",
    "#include <cmath>\n",
    " \n",
    "using namespace std;\n",
    " \n",
    "int main(){\n",
    "    int t;\n",
    "    cin >> t;\n",
    "    string result[t];\n",
    "    for (int k = 0; k < t; k++){\n",
    "        int n, m;\n",
    "        cin >> n >> m;\n",
    "        if(n == 1)   cout << \"YES\" << '\\n';\n",
    "        else if(n <= m)   cout << \"NO\" << '\\n';\n",
    "        else{\n",
    "        int shortprimefactor = 0;\n",
    "        for (int i = 2; i <= sqrt(n); i++){\n",
    "            if (n % i == 0)   {\n",
    "                shortprimefactor = i;\n",
    "                break;\n",
    "            } \n",
    "        }\n",
    "        cout << (m >= shortprimefactor && shortprimefactor > 0 ? \"NO\" : \"YES\") <<'\\n';\n",
    "        }\n",
    "    }\n",
    "    return 0;\n",
    "}\n",
    "/*\n",
    "10\n",
    "82 53\n",
    "11 67\n",
    "98 15\n",
    "45 36\n",
    "14 27\n",
    "6 88\n",
    "23 59\n",
    "25 63\n",
    "32 99\n",
    "48 1\n",
    "*/"
   ]
  },
  {
   "cell_type": "markdown",
   "id": "0be85308",
   "metadata": {},
   "source": [
    "### Time complexity: O($n^{\\frac{1}{2}}$)"
   ]
  }
 ],
 "metadata": {
  "kernelspec": {
   "display_name": "Python 3 (ipykernel)",
   "language": "python",
   "name": "python3"
  },
  "language_info": {
   "codemirror_mode": {
    "name": "ipython",
    "version": 3
   },
   "file_extension": ".py",
   "mimetype": "text/x-python",
   "name": "python",
   "nbconvert_exporter": "python",
   "pygments_lexer": "ipython3",
   "version": "3.10.9"
  }
 },
 "nbformat": 4,
 "nbformat_minor": 5
}
